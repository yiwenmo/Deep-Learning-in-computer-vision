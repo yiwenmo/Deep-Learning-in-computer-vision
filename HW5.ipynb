{
 "cells": [
  {
   "cell_type": "markdown",
   "metadata": {
    "id": "Cnz37uBd7H3X"
   },
   "source": [
    "## Homework 05: due 2022/05/18 23:59(100%)\n",
    "\n",
    "### - There are differences between every OpenCV version, please use the version 4.4.0.40 to avoid generating bugs.  \n",
    "\n",
    "### - Tutorial : \n",
    "1. Feature extraction and matching: https://docs.opencv.org/4.4.0/db/d27/tutorial_py_table_of_contents_feature2d.html\n",
    "2. Feature detectors (ORB & FAST): https://medium.com/data-breach/introduction-to-orb-oriented-fast-and-rotated-brief-4220e8ec40cf \n",
    "                   \n",
    "### - After you go through the tutorials, you should be able to work on this assignment.\n",
    "\n",
    "### - Please answer the following questions and work directly on this jupyter notebook.\n",
    "\n",
    "### - Make sure the code can be run and show the result and figures properly.\n",
    "\n",
    "### - Please write down your observation with markdown in this notebook briefly."
   ]
  },
  {
   "cell_type": "code",
   "execution_count": null,
   "metadata": {
    "colab": {
     "base_uri": "https://localhost:8080/"
    },
    "id": "YQnS9vz439cf",
    "outputId": "7fc8f2de-f6c7-4039-b018-3b161e5a0ad0"
   },
   "outputs": [
    {
     "name": "stdout",
     "output_type": "stream",
     "text": [
      "Requirement already satisfied: opencv-python==4.4.0.40 in /usr/local/lib/python3.7/dist-packages (4.4.0.40)\n",
      "Requirement already satisfied: numpy>=1.14.5 in /usr/local/lib/python3.7/dist-packages (from opencv-python==4.4.0.40) (1.21.6)\n"
     ]
    }
   ],
   "source": [
    "# Set up the environment\n",
    "## Install opencv with version 4.4.0\n",
    "!pip3 install opencv-python==4.4.0.40"
   ]
  },
  {
   "cell_type": "code",
   "execution_count": null,
   "metadata": {
    "colab": {
     "base_uri": "https://localhost:8080/"
    },
    "id": "bsG5FiyfRtDo",
    "outputId": "a74a5131-ef0c-482c-e36b-7f063ce43834"
   },
   "outputs": [
    {
     "name": "stdout",
     "output_type": "stream",
     "text": [
      "/usr/local/lib/python3.7/dist-packages/gdown/cli.py:131: FutureWarning: Option `--id` was deprecated in version 4.3.1 and will be removed in 5.0. You don't need to pass it anymore to use a file ID.\n",
      "  category=FutureWarning,\n",
      "Downloading...\n",
      "From: https://drive.google.com/uc?id=1LaYcBfYtjdze8pCBPTfMjnTFOp46B7yC\n",
      "To: /content/test1.jpg\n",
      "100% 221k/221k [00:00<00:00, 38.2MB/s]\n",
      "/usr/local/lib/python3.7/dist-packages/gdown/cli.py:131: FutureWarning: Option `--id` was deprecated in version 4.3.1 and will be removed in 5.0. You don't need to pass it anymore to use a file ID.\n",
      "  category=FutureWarning,\n",
      "Downloading...\n",
      "From: https://drive.google.com/uc?id=1VlOx8bBkzPSrn6AEeZ2-pgl-a6F3vtzO\n",
      "To: /content/test2.jpg\n",
      "100% 221k/221k [00:00<00:00, 88.5MB/s]\n"
     ]
    }
   ],
   "source": [
    "# Download the images\n",
    "!gdown --id \"1LaYcBfYtjdze8pCBPTfMjnTFOp46B7yC\" --output ./test1.jpg\n",
    "!gdown --id \"1VlOx8bBkzPSrn6AEeZ2-pgl-a6F3vtzO\" --output ./test2.jpg"
   ]
  },
  {
   "cell_type": "code",
   "execution_count": null,
   "metadata": {
    "id": "ufozvcl7uPiE"
   },
   "outputs": [],
   "source": [
    "import cv2\n",
    "import numpy as np\n",
    "import matplotlib.pyplot as plt"
   ]
  },
  {
   "cell_type": "markdown",
   "metadata": {
    "id": "0n4U61baMGVR"
   },
   "source": [
    "#### 1. Feature detector (40%)\n",
    "##### Please use the following feature detectors (FAST, ORB, SIFT) and draw the feature points on the __test1.jpg__ images.\n",
    "###### (Example figure)\n",
    "![figure1.jpg](https://github.com/tingyan08/Deep-Learning-and-Computer-Vision/blob/main/HW5/fig/figure1.jpg?raw=true)"
   ]
  },
  {
   "cell_type": "code",
   "execution_count": null,
   "metadata": {
    "id": "C4pHw7iEYf5l"
   },
   "outputs": [],
   "source": []
  },
  {
   "cell_type": "markdown",
   "metadata": {
    "id": "Xn_DfJzi4HuE"
   },
   "source": [
    "#### 2. Feature matching (60%)\n",
    "##### Please match the feature points from the __test1.jpg__ and __test2.jpg__.Also, please apply Lowe's ratio test (with ratio 0.6 and 0.8) to match the features and observe the differences when adjusting the ratio.\n",
    "##### 2.1 Please use __SIFT__ as feature detector and descriptor.(30%) \n",
    "###### (Example figure)\n",
    "![figure2.jpg](https://github.com/tingyan08/Deep-Learning-and-Computer-Vision/blob/main/HW5/fig/figure2.jpg?raw=true)\n"
   ]
  },
  {
   "cell_type": "code",
   "execution_count": null,
   "metadata": {
    "id": "sYrml9KnYhYs"
   },
   "outputs": [],
   "source": []
  },
  {
   "cell_type": "markdown",
   "metadata": {
    "id": "-W6hvoUiXaPc"
   },
   "source": [
    "##### 2.2 Please use __ORB__ as feature detector and descriptor.(30%) \n",
    "###### (Example figure)\n",
    "![figure3.jpg](https://github.com/tingyan08/Deep-Learning-and-Computer-Vision/blob/main/HW5/fig/figure3.jpg?raw=true)"
   ]
  },
  {
   "cell_type": "code",
   "execution_count": null,
   "metadata": {
    "id": "AH-e_txaN9qQ"
   },
   "outputs": [],
   "source": []
  }
 ],
 "metadata": {
  "colab": {
   "collapsed_sections": [],
   "name": "HW5.ipynb",
   "provenance": []
  },
  "kernelspec": {
   "display_name": "Python 3",
   "language": "python",
   "name": "python3"
  },
  "language_info": {
   "codemirror_mode": {
    "name": "ipython",
    "version": 3
   },
   "file_extension": ".py",
   "mimetype": "text/x-python",
   "name": "python",
   "nbconvert_exporter": "python",
   "pygments_lexer": "ipython3",
   "version": "3.8.4rc1"
  }
 },
 "nbformat": 4,
 "nbformat_minor": 4
}
